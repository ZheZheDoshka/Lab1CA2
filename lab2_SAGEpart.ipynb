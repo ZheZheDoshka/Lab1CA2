{
 "cells": [
  {
   "cell_type": "code",
   "execution_count": 1,
   "id": "f62acf06",
   "metadata": {},
   "outputs": [],
   "source": [
    "f_text = open('V12.txt', 'r')\n",
    "f = f_text.readlines()[0]"
   ]
  },
  {
   "cell_type": "code",
   "execution_count": 2,
   "id": "f50bbecf",
   "metadata": {},
   "outputs": [],
   "source": [
    "g_text = open('V12g.txt', 'r')\n",
    "gamma = g_text.readlines()[0]"
   ]
  },
  {
   "cell_type": "code",
   "execution_count": 3,
   "id": "0664f2bf",
   "metadata": {},
   "outputs": [],
   "source": [
    "f_text.close()\n",
    "g_text.close()"
   ]
  },
  {
   "cell_type": "code",
   "execution_count": 4,
   "id": "e3c7aedb",
   "metadata": {},
   "outputs": [
    {
     "name": "stdout",
     "output_type": "stream",
     "text": [
      "x_{0} x_{3} x_{5} + x_{1} x_{3} x_{5} + x_{2} x_{3} x_{5} + x_{2} x_{5} + x_{3} x_{4} x_{5} + x_{3} x_{5} + x_{3} + x_{4} x_{5} + x_{5} + 1\n"
     ]
    }
   ],
   "source": [
    "print(f)"
   ]
  },
  {
   "cell_type": "code",
   "execution_count": 5,
   "id": "4257a3d3",
   "metadata": {},
   "outputs": [
    {
     "name": "stdout",
     "output_type": "stream",
     "text": [
      "x0*x3*x5 + x1*x3*x5 + x2*x3*x5 + x2*x5 + x3*x4*x5 + x3*x5 + x3 + x4*x5 + x5 + 1\n"
     ]
    }
   ],
   "source": [
    "print(f.replace('_{', '').replace('} x', '*x').replace('}', ''))"
   ]
  },
  {
   "cell_type": "code",
   "execution_count": 6,
   "id": "de9be6bd",
   "metadata": {},
   "outputs": [],
   "source": [
    "def f(x0, x1, x2, x3, x4, x5):\n",
    "    return (x0*x3*x5 ^^ x1*x3*x5 ^^ x2*x3*x5 ^^ x2*x5 ^^ x3*x4*x5 ^^ x3*x5 ^^ x3 ^^ x4*x5 ^^ x5 ^^ 1)"
   ]
  },
  {
   "cell_type": "code",
   "execution_count": 7,
   "id": "89d2e4b9",
   "metadata": {},
   "outputs": [
    {
     "data": {
      "text/plain": [
       "0"
      ]
     },
     "execution_count": 7,
     "metadata": {},
     "output_type": "execute_result"
    }
   ],
   "source": [
    "f(0, 0, 0, 1, 0, 0)"
   ]
  },
  {
   "cell_type": "code",
   "execution_count": 8,
   "id": "2532d21b",
   "metadata": {},
   "outputs": [
    {
     "data": {
      "text/plain": [
       "1"
      ]
     },
     "execution_count": 8,
     "metadata": {},
     "output_type": "execute_result"
    }
   ],
   "source": [
    "f(0, 1, 0, 0, 0, 0)"
   ]
  },
  {
   "cell_type": "code",
   "execution_count": 9,
   "id": "b367b662",
   "metadata": {},
   "outputs": [
    {
     "name": "stdout",
     "output_type": "stream",
     "text": [
      "0100110000\n"
     ]
    }
   ],
   "source": [
    "print(gamma[:10])"
   ]
  },
  {
   "cell_type": "code",
   "execution_count": 10,
   "id": "1af8eb9d",
   "metadata": {},
   "outputs": [],
   "source": [
    "p0 = x^10 + x^3 + 1\n",
    "p1 = x^10 + x^7 + 1\n",
    "p2 = x^10 + x^4 + x^3 + x^1 + 1\n",
    "p3 = x^10 + x^8 + x^3 + x^2 + 1\n",
    "p4 = x^10 + x^8 + x^4 + x^3 + 1\n",
    "p5 = x^10 + x^8 + x^5 + x^1 + 1"
   ]
  },
  {
   "cell_type": "code",
   "execution_count": 11,
   "id": "d2ef5ed2",
   "metadata": {},
   "outputs": [],
   "source": [
    "def to_bits(x):\n",
    "    x = '{0:06b}'.format(x)\n",
    "    return [int(bit) for bit in x]"
   ]
  },
  {
   "cell_type": "code",
   "execution_count": 12,
   "id": "81e60f16",
   "metadata": {},
   "outputs": [],
   "source": [
    "def f_c(x):\n",
    "    x = to_bits(x)\n",
    "    return f(x[0], x[1], x[2], x[3], x[4], x[5])\n",
    "\n",
    "def s_mul(x, y):\n",
    "    x = to_bits(x)\n",
    "    y = to_bits(y)\n",
    "    return sum([x[i]*y[i] for i in range(6)])%2\n",
    "\n"
   ]
  },
  {
   "cell_type": "code",
   "execution_count": 13,
   "id": "027cb7c7",
   "metadata": {},
   "outputs": [
    {
     "data": {
      "text/plain": [
       "0"
      ]
     },
     "execution_count": 13,
     "metadata": {},
     "output_type": "execute_result"
    }
   ],
   "source": [
    "f_c(1)"
   ]
  },
  {
   "cell_type": "code",
   "execution_count": 14,
   "id": "20ae9e1c",
   "metadata": {},
   "outputs": [],
   "source": [
    "f_u = [sum((-1)^(f_c(x)^^s_mul(alpha,x)) for x in range (2^6)) for alpha in range (2**6)]"
   ]
  },
  {
   "cell_type": "code",
   "execution_count": 15,
   "id": "67d05d90",
   "metadata": {},
   "outputs": [
    {
     "name": "stdout",
     "output_type": "stream",
     "text": [
      "a = 4, W_f(a) = -32\n",
      "a = 5, W_f(a) = -32\n",
      "a = 10, W_f(a) = 16\n",
      "a = 11, W_f(a) = -16\n",
      "a = 14, W_f(a) = 16\n",
      "a = 15, W_f(a) = -16\n",
      "a = 48, W_f(a) = 16\n",
      "a = 49, W_f(a) = -16\n",
      "a = 52, W_f(a) = -16\n",
      "a = 53, W_f(a) = 16\n"
     ]
    }
   ],
   "source": [
    "all_non_zero_coef = {i: f_u[i] for i in range(2**6) if f_u[i] != 0}\n",
    "for a in all_non_zero_coef:\n",
    "    print('a = ' + str(a) + ', W_f(a) = ' + str(all_non_zero_coef[a]))"
   ]
  },
  {
   "cell_type": "code",
   "execution_count": 16,
   "id": "b785fc5b",
   "metadata": {},
   "outputs": [
    {
     "name": "stdout",
     "output_type": "stream",
     "text": [
      "g = x3 ⊕ 1, P(f(x) = g(x))  =1/4\n",
      "g = x3 ⊕ x5 ⊕ 1, P(f(x) = g(x))  =1/4\n",
      "g = x2 ⊕ x4 , P(f(x) = g(x))  =5/8\n",
      "g = x2 ⊕ x4 ⊕ x5 ⊕ 1, P(f(x) = g(x))  =3/8\n",
      "g = x2 ⊕ x3 ⊕ x4 , P(f(x) = g(x))  =5/8\n",
      "g = x2 ⊕ x3 ⊕ x4 ⊕ x5 ⊕ 1, P(f(x) = g(x))  =3/8\n",
      "g = x0 ⊕ x1 , P(f(x) = g(x))  =5/8\n",
      "g = x0 ⊕ x1 ⊕ x5 ⊕ 1, P(f(x) = g(x))  =3/8\n",
      "g = x0 ⊕ x1 ⊕ x3 ⊕ 1, P(f(x) = g(x))  =3/8\n",
      "g = x0 ⊕ x1 ⊕ x3 ⊕ x5 , P(f(x) = g(x))  =5/8\n"
     ]
    }
   ],
   "source": [
    "j = 1\n",
    "for a in all_non_zero_coef:\n",
    "    c = 0 \n",
    "    one = 0\n",
    "    if all_non_zero_coef[a] < 0:\n",
    "        one = 1\n",
    "    bit_a = to_bits(a)\n",
    "    g = ''.join(\"x\" + str(i) + \" ⊕ \"  for i in range(6) if bit_a[i] == 1)[:-2] + (\"⊕ 1\" if one == 1 else '')\n",
    "    P = (1 + (-1)**c*all_non_zero_coef[a]/2**6)/2\n",
    "    print(\"g = \" +  g + \", P(f(x) = g(x))  =\" + str(P))\n",
    "    #print (\"Pr{f(x) = g(x)} =\" + str((1 + (-1)**c*all_non_zero_coef[a]/2**6)/2))\n",
    "    j+= 1"
   ]
  },
  {
   "cell_type": "code",
   "execution_count": 17,
   "id": "881ed377",
   "metadata": {},
   "outputs": [],
   "source": [
    "%%cython\n",
    "\n",
    "from libc.stdlib cimport malloc, free\n",
    "\n",
    "cdef int LENGTH = 10\n",
    "\n",
    "def gen_sequence(int poly, int init_state, int nbits):\n",
    "    cdef int curr_state = init_state, s, i, j\n",
    "    cdef int *res_array = <int *>malloc(sizeof(int)*nbits)\n",
    "    try:\n",
    "        for i in range(nbits):\n",
    "            res_array[i] = (curr_state >> (LENGTH - 1))&1\n",
    "            s = 0\n",
    "            for j in range(LENGTH):\n",
    "                s = s^((( curr_state & poly ) >> j)&1)\n",
    "            curr_state = (curr_state << 1)|s\n",
    "        return [x for x in res_array[: nbits]]\n",
    "    finally:\n",
    "        free(res_array)"
   ]
  },
  {
   "cell_type": "code",
   "execution_count": 18,
   "id": "23e816f4",
   "metadata": {},
   "outputs": [],
   "source": [
    "delta = 0.01"
   ]
  },
  {
   "cell_type": "code",
   "execution_count": 20,
   "id": "1059afcb",
   "metadata": {},
   "outputs": [],
   "source": [
    "e = 0.5\n",
    "m = 10\n",
    "k = 1\n",
    "T = int(8*(e^(-2))*math.log(2^(m*k)*delta^(-1)))\n",
    "k = 2\n",
    "T2 = int(8*(e^(-2))*math.log(2^(m*k)*delta^(-1)))"
   ]
  },
  {
   "cell_type": "code",
   "execution_count": 21,
   "id": "3a130ef5",
   "metadata": {},
   "outputs": [
    {
     "name": "stdout",
     "output_type": "stream",
     "text": [
      "369\n",
      "590\n"
     ]
    }
   ],
   "source": [
    "print(T)\n",
    "print(T2)"
   ]
  },
  {
   "cell_type": "code",
   "execution_count": 22,
   "id": "a76ee064",
   "metadata": {},
   "outputs": [],
   "source": [
    "def distance(x, y):\n",
    "    return sum([abs((x[i]) - (y[i])) for i in range(len(x))])"
   ]
  },
  {
   "cell_type": "code",
   "execution_count": 23,
   "id": "cc816160",
   "metadata": {},
   "outputs": [],
   "source": [
    "p = [p0, p1, p2, p3, p4, p5]\n",
    "bin_poly = [''.join([str(i) for i in poly.list()])[:-1] for poly in p]\n",
    "int_poly = [int(integer, 2) for integer in bin_poly]"
   ]
  },
  {
   "cell_type": "code",
   "execution_count": 24,
   "id": "0f916bb6",
   "metadata": {
    "scrolled": true
   },
   "outputs": [
    {
     "data": {
      "text/plain": [
       "[576, 516, 864, 706, 610, 786]"
      ]
     },
     "execution_count": 24,
     "metadata": {},
     "output_type": "execute_result"
    }
   ],
   "source": [
    "int_poly"
   ]
  },
  {
   "cell_type": "code",
   "execution_count": 25,
   "id": "66405bdb",
   "metadata": {},
   "outputs": [],
   "source": [
    "gamma = [int(g) for g in gamma]"
   ]
  },
  {
   "cell_type": "code",
   "execution_count": 26,
   "id": "0a38c3f5",
   "metadata": {},
   "outputs": [],
   "source": [
    "def g3(x0, x1, x2, x3, x4, x5):\n",
    "    return x2 ^^ x4 ^^ 1\n",
    "\n",
    "def g1(x0, x1, x2, x3, x4, x5):\n",
    "    return x3 ^^ 1\n",
    "\n",
    "def g5(x0, x1, x2, x3, x4, x5):\n",
    "    return x2 ^^ x3 ^^ x4 ^^ 1\n",
    "\n",
    "def g9(x0, x1, x2, x3, x4, x5):\n",
    "    return x0 ^^ x1 ^^ x3 ^^ x5 ^^ 1\n",
    "\n",
    "def g2(x0, x1, x2, x3, x4, x5):\n",
    "    return x3 ^^ x5 ^^ 1"
   ]
  },
  {
   "cell_type": "code",
   "execution_count": 27,
   "id": "97993bf4",
   "metadata": {},
   "outputs": [],
   "source": [
    "g2 = lambda x3, x5: x3 ^^ x5 ^^ 1\n",
    "g3 = lambda x2, x4: x2 ^^ x4 ^^ 1\n",
    "g1 = lambda x3: x3^^1\n",
    "g5 = lambda x2, x3, x4 : x2 ^^ x3 ^^ x4 ^^ 1\n",
    "g9 = lambda x0, x1, x3, x5: x0 ^^ x1 ^^ x3 ^^ x5 ^^ 1\n",
    "g7 = lambda x0, x1: x0 ^^ x1 ^^ 1\n",
    "T_range = range(T)"
   ]
  },
  {
   "cell_type": "code",
   "execution_count": null,
   "id": "fec17130",
   "metadata": {},
   "outputs": [],
   "source": [
    "%%time\n",
    "states = {}\n",
    "for i in range(2**10):\n",
    "    x0 = gen_sequence(int_poly[0], i, T)\n",
    "    for j in range(2**10):\n",
    "        x1 = gen_sequence(int_poly[1], i, T)\n",
    "        sequence = [g7(x0[j], x1[j]) for j in T_range]\n",
    "    states[i] = distance(sequence, gamma[:T])\n",
    "dist = min(states.values())\n",
    "print('min distance = ', dist)\n",
    "states = [i for i in states if states[i] == dist]\n",
    "for x0, x1 in states:\n",
    "    print(x0, x1) "
   ]
  },
  {
   "cell_type": "code",
   "execution_count": null,
   "id": "84c3eb04",
   "metadata": {},
   "outputs": [],
   "source": []
  },
  {
   "cell_type": "code",
   "execution_count": null,
   "id": "96fef5a0",
   "metadata": {},
   "outputs": [],
   "source": []
  },
  {
   "cell_type": "code",
   "execution_count": null,
   "id": "c3ca463a",
   "metadata": {},
   "outputs": [],
   "source": []
  },
  {
   "cell_type": "code",
   "execution_count": null,
   "id": "c166a19e",
   "metadata": {},
   "outputs": [],
   "source": []
  },
  {
   "cell_type": "code",
   "execution_count": null,
   "id": "4075ae57",
   "metadata": {},
   "outputs": [],
   "source": []
  },
  {
   "cell_type": "code",
   "execution_count": 35,
   "id": "8545f16d",
   "metadata": {},
   "outputs": [
    {
     "name": "stdout",
     "output_type": "stream",
     "text": [
      "min distance =  81\n",
      "751\n",
      "CPU times: user 53.9 ms, sys: 1.07 s, total: 1.13 s\n",
      "Wall time: 1.2 s\n"
     ]
    }
   ],
   "source": [
    "%%time\n",
    "states = {}\n",
    "for i in range(2**10):\n",
    "    x3 = gen_sequence(int_poly[3], i, int(T))\n",
    "    sequence = [g1(x3[j]) for j in T_range]\n",
    "    states[i] = distance(sequence, gamma[:T])\n",
    "dist = min(states.values())\n",
    "print('min distance = ', dist)\n",
    "states = [i for i in states if states[i] == dist]\n",
    "for x3 in states:\n",
    "    print(x3)\n",
    "    x_3 = x3\n",
    "\n",
    "#x3 = gen_sequence(int_poly[3], 381, T)"
   ]
  },
  {
   "cell_type": "code",
   "execution_count": 28,
   "id": "78b62826",
   "metadata": {},
   "outputs": [],
   "source": [
    "x3 = gen_sequence(int_poly[3], x_3, T)"
   ]
  },
  {
   "cell_type": "markdown",
   "id": "fed37c23",
   "metadata": {},
   "source": [
    "g1 = x3 xor 1"
   ]
  },
  {
   "cell_type": "code",
   "execution_count": 31,
   "id": "d3b16f12",
   "metadata": {},
   "outputs": [
    {
     "ename": "TypeError",
     "evalue": "<lambda>() takes 2 positional arguments but 6 were given",
     "output_type": "error",
     "traceback": [
      "\u001b[0;31m---------------------------------------------------------------------------\u001b[0m",
      "\u001b[0;31mTypeError\u001b[0m                                 Traceback (most recent call last)",
      "File \u001b[0;32m<timed exec>:4\u001b[0m\n",
      "File \u001b[0;32m<timed exec>:4\u001b[0m, in \u001b[0;36m<listcomp>\u001b[0;34m(.0)\u001b[0m\n",
      "\u001b[0;31mTypeError\u001b[0m: <lambda>() takes 2 positional arguments but 6 were given"
     ]
    }
   ],
   "source": [
    "%%time\n",
    "states = {}\n",
    "for i in range(2**10):\n",
    "    x5 = gen_sequence(int_poly[5], i, int(T))\n",
    "    sequence = [g2(0, 0, 0, x3[j], 0, x5[j]) for j in range(T)]\n",
    "    states[i] = distance(sequence, gamma[:T])\n",
    "dist = min(states.values())\n",
    "print('min distance = ', dist)\n",
    "states = [i for i in states if states[i] == dist]\n",
    "for x__5 in states:\n",
    "    print(x__5)\n",
    "    x_5 = x__5\n"
   ]
  },
  {
   "cell_type": "code",
   "execution_count": 32,
   "id": "9376dcc6",
   "metadata": {},
   "outputs": [
    {
     "name": "stdout",
     "output_type": "stream",
     "text": [
      "min distance =  157\n",
      "639\n",
      "683\n",
      "934\n",
      "CPU times: user 795 ms, sys: 550 ms, total: 1.34 s\n",
      "Wall time: 1.51 s\n"
     ]
    }
   ],
   "source": [
    "%%time\n",
    "states = {}\n",
    "for i in range(2**10):\n",
    "    x5 = gen_sequence(int_poly[5], i, int(T))\n",
    "    sequence = [g2(x3[j], x5[j]) for j in range(T)]\n",
    "    states[i] = distance(sequence, gamma[:T])\n",
    "dist = min(states.values())\n",
    "print('min distance = ', dist)\n",
    "states = [i for i in states if states[i] == dist]\n",
    "for x__5 in states:\n",
    "    print(x__5)\n",
    "    x_5 = x__5\n"
   ]
  },
  {
   "cell_type": "code",
   "execution_count": null,
   "id": "9f5331f9",
   "metadata": {},
   "outputs": [],
   "source": [
    "%%time\n",
    "x3 = gen_sequence(int_poly[3], 381, T)\n",
    "states = {}\n",
    "for i in range(2**10):\n",
    "    x2 = gen_sequence(int_poly[2], i, T)\n",
    "    for j in range(2**10):\n",
    "        x4 = gen_sequence(int_poly[4], i, T)\n",
    "        sequence = [g5(0, 0, x2[j], x3[j], x4[j], 0) for j in range(T)]\n",
    "    states[i] = distance(sequence, gamma[:T])\n",
    "dist = min(states.values())\n",
    "print('min distance = ', dist)\n",
    "states = [i for i in states if states[i] == dist]\n",
    "for x2, x4 in states:\n",
    "    print(x2,\" \", x4) "
   ]
  },
  {
   "cell_type": "code",
   "execution_count": null,
   "id": "80a1277a",
   "metadata": {},
   "outputs": [],
   "source": [
    "%%time\n",
    "states = {}\n",
    "for i in range(2**10):\n",
    "    sequence = gen_sequence(int_poly[3], i, int(T))\n",
    "    #sequence = g5(int_poly[1], i, int(T))\n",
    "    states[i] = distance(sequence, gamma[:T])\n",
    "dist = min(states.values())\n",
    "print('min distance = ', dist)\n",
    "states = [i for i in states if states[i] == dist]\n",
    "for x5 in states:\n",
    "    print(x5) "
   ]
  },
  {
   "cell_type": "code",
   "execution_count": null,
   "id": "dc7192e7",
   "metadata": {},
   "outputs": [],
   "source": []
  }
 ],
 "metadata": {
  "kernelspec": {
   "display_name": "SageMath 9.0",
   "language": "sage",
   "name": "sagemath"
  },
  "language_info": {
   "codemirror_mode": {
    "name": "ipython",
    "version": 3
   },
   "file_extension": ".py",
   "mimetype": "text/x-python",
   "name": "python",
   "nbconvert_exporter": "python",
   "pygments_lexer": "ipython3",
   "version": "3.8.10"
  }
 },
 "nbformat": 4,
 "nbformat_minor": 5
}
