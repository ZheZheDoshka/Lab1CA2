{
 "cells": [
  {
   "cell_type": "code",
   "execution_count": 1,
   "metadata": {},
   "outputs": [],
   "source": [
    "f_text = open('V12f.txt', 'r')\n",
    "filter_f = f_text.readlines()[0]\n"
   ]
  },
  {
   "cell_type": "code",
   "execution_count": 2,
   "metadata": {},
   "outputs": [],
   "source": [
    "g_text = open('V12g.txt', 'r')\n",
    "gamma = g_text.readlines()[0]"
   ]
  },
  {
   "cell_type": "code",
   "execution_count": 3,
   "metadata": {},
   "outputs": [],
   "source": [
    "f_text.close()\n",
    "g_text.close()"
   ]
  },
  {
   "cell_type": "code",
   "execution_count": 4,
   "metadata": {},
   "outputs": [
    {
     "name": "stdout",
     "output_type": "stream",
     "text": [
      "Defining x0, x1, x2, x3, x4, x5, x6, x7, x8, x9, x10, x11, x12, x13, x14, x15, x16, x17, x18, x19, x20, x21, x22, x23, x24, x25, x26, x27, x28, x29, x30, x31, x32, x33, x34, x35, x36, x37, x38, x39, x40, x41, x42, x43, x44, x45, x46, x47, x48, x49, x50, x51, x52, x53, x54, x55, x56, x57, x58, x59, x60, x61, x62, x63\n"
     ]
    }
   ],
   "source": [
    "B = BooleanPolynomialRing(64, 'x', order = 'degrevlex')\n",
    "B.inject_variables()"
   ]
  },
  {
   "cell_type": "code",
   "execution_count": 5,
   "metadata": {},
   "outputs": [
    {
     "name": "stdout",
     "output_type": "stream",
     "text": [
      "x_{3} x_{8} x_{9} x_{11} x_{12} x_{14} x_{15} x_{23} x_{34} x_{38} x_{39} x_{41} x_{44} x_{45} x_{46} x_{47} x_{49} x_{55} x_{56} x_{59} x_{61} + x_{3} x_{9} x_{12} x_{14} x_{15} x_{23} x_{30} x_{34} x_{38} x_{39} x_{41} x_{45} x_{46} x_{47} x_{49} x_{55} x_{56} x_{59} + x_{3} x_{9} x_{12} x_{14} x_{15} x_{23} x_{34} x_{38} x_{39} x_{41} x_{45} x_{46} x_{47} x_{49} x_{55} x_{56} x_{59} + x_{3} x_{9} x_{12} x_{15} x_{19} x_{23} x_{34} x_{38} x_{39} x_{41} x_{45} x_{46} x_{47} x_{49} x_{55} x_{56} x_{59} + x_{3} x_{9} x_{12} x_{15} x_{23} x_{30} x_{34} x_{38} x_{39} x_{41} x_{45} x_{46} x_{47} x_{49} x_{55} x_{56} x_{59} + x_{3} x_{4} x_{9} x_{15} x_{23} x_{34} x_{38} x_{39} x_{41} x_{45} x_{46} x_{47} x_{49} x_{55} x_{56} x_{59} + x_{3} x_{9} x_{15} x_{19} x_{23} x_{34} x_{38} x_{39} x_{41} x_{45} x_{46} x_{47} x_{49} x_{55} x_{56} x_{59} + x_{3} x_{4} x_{9} x_{15} x_{23} x_{38} x_{39} x_{41} x_{45} x_{46} x_{47} x_{49} x_{55} x_{56} x_{59} + x_{3} x_{9} x_{15} x_{23} x_{38} x_{39} x_{41} x_{45} x_{46} x_{47} x_{49} x_{55} x_{56} x_{59} x_{62} + x_{3} x_{9} x_{15} x_{23} x_{38} x_{39} x_{41} x_{45} x_{46} x_{47} x_{49} x_{55} x_{56} x_{59} + x_{3} x_{9} x_{15} x_{23} x_{38} x_{39} x_{41} x_{45} x_{46} x_{47} x_{49} x_{55} x_{56} x_{62} + x_{3} x_{9} x_{15} x_{23} x_{31} x_{39} x_{41} x_{45} x_{46} x_{47} x_{49} x_{55} x_{56} + x_{3} x_{9} x_{15} x_{22} x_{23} x_{39} x_{41} x_{45} x_{46} x_{47} x_{49} x_{56} + x_{3} x_{9} x_{15} x_{23} x_{31} x_{39} x_{41} x_{45} x_{46} x_{47} x_{49} x_{56} + x_{0} x_{9} x_{15} x_{23} x_{39} x_{41} x_{45} x_{46} x_{47} x_{49} x_{56} + x_{9} x_{15} x_{22} x_{23} x_{39} x_{41} x_{45} x_{46} x_{47} x_{49} x_{56} + x_{0} x_{9} x_{15} x_{23} x_{39} x_{41} x_{45} x_{46} x_{47} x_{56} + x_{9} x_{15} x_{23} x_{38} x_{39} x_{41} x_{45} x_{46} x_{47} x_{56} + x_{9} x_{15} x_{23} x_{39} x_{41} x_{45} x_{46} x_{47} x_{56} + x_{9} x_{15} x_{38} x_{39} x_{41} x_{45} x_{46} x_{47} x_{56} + x_{9} x_{15} x_{39} x_{41} x_{45} x_{46} x_{47} x_{50} x_{56} + x_{9} x_{15} x_{39} x_{41} x_{45} x_{46} x_{47} x_{56} + x_{9} x_{15} x_{39} x_{42} x_{45} x_{46} x_{47} x_{56} + x_{9} x_{15} x_{39} x_{45} x_{46} x_{47} x_{50} x_{56} + x_{9} x_{15} x_{39} x_{45} x_{46} x_{47} x_{56} + x_{9} x_{39} x_{42} x_{45} x_{46} x_{47} x_{56} + x_{9} x_{39} x_{45} x_{46} x_{55} x_{56} + x_{9} x_{39} x_{45} x_{46} x_{56} + x_{36} x_{39} x_{45} x_{46} x_{56} + x_{39} x_{45} x_{46} x_{55} x_{56} + x_{36} x_{45} x_{46} x_{56} + x_{45} x_{46} x_{49} x_{56} + x_{45} x_{46} x_{56} + x_{45} x_{49} x_{56} + x_{45} x_{52} x_{56} + x_{25} x_{56} + x_{52} x_{56} + x_{25} + x_{56}\n"
     ]
    }
   ],
   "source": [
    "print(filter_f)"
   ]
  },
  {
   "cell_type": "code",
   "execution_count": 6,
   "metadata": {},
   "outputs": [
    {
     "data": {
      "text/plain": [
       "'x3*x8*x9*x11*x12*x14*x15*x23*x34*x38*x39*x41*x44*x45*x46*x47*x49*x55*x56*x59*x61 + x3*x9*x12*x14*x15*x23*x30*x34*x38*x39*x41*x45*x46*x47*x49*x55*x56*x59 + x3*x9*x12*x14*x15*x23*x34*x38*x39*x41*x45*x46*x47*x49*x55*x56*x59 + x3*x9*x12*x15*x19*x23*x34*x38*x39*x41*x45*x46*x47*x49*x55*x56*x59 + x3*x9*x12*x15*x23*x30*x34*x38*x39*x41*x45*x46*x47*x49*x55*x56*x59 + x3*x4*x9*x15*x23*x34*x38*x39*x41*x45*x46*x47*x49*x55*x56*x59 + x3*x9*x15*x19*x23*x34*x38*x39*x41*x45*x46*x47*x49*x55*x56*x59 + x3*x4*x9*x15*x23*x38*x39*x41*x45*x46*x47*x49*x55*x56*x59 + x3*x9*x15*x23*x38*x39*x41*x45*x46*x47*x49*x55*x56*x59*x62 + x3*x9*x15*x23*x38*x39*x41*x45*x46*x47*x49*x55*x56*x59 + x3*x9*x15*x23*x38*x39*x41*x45*x46*x47*x49*x55*x56*x62 + x3*x9*x15*x23*x31*x39*x41*x45*x46*x47*x49*x55*x56 + x3*x9*x15*x22*x23*x39*x41*x45*x46*x47*x49*x56 + x3*x9*x15*x23*x31*x39*x41*x45*x46*x47*x49*x56 + x0*x9*x15*x23*x39*x41*x45*x46*x47*x49*x56 + x9*x15*x22*x23*x39*x41*x45*x46*x47*x49*x56 + x0*x9*x15*x23*x39*x41*x45*x46*x47*x56 + x9*x15*x23*x38*x39*x41*x45*x46*x47*x56 + x9*x15*x23*x39*x41*x45*x46*x47*x56 + x9*x15*x38*x39*x41*x45*x46*x47*x56 + x9*x15*x39*x41*x45*x46*x47*x50*x56 + x9*x15*x39*x41*x45*x46*x47*x56 + x9*x15*x39*x42*x45*x46*x47*x56 + x9*x15*x39*x45*x46*x47*x50*x56 + x9*x15*x39*x45*x46*x47*x56 + x9*x39*x42*x45*x46*x47*x56 + x9*x39*x45*x46*x55*x56 + x9*x39*x45*x46*x56 + x36*x39*x45*x46*x56 + x39*x45*x46*x55*x56 + x36*x45*x46*x56 + x45*x46*x49*x56 + x45*x46*x56 + x45*x49*x56 + x45*x52*x56 + x25*x56 + x52*x56 + x25 + x56'"
      ]
     },
     "execution_count": 6,
     "metadata": {},
     "output_type": "execute_result"
    }
   ],
   "source": [
    "filter_f = filter_f.replace('} x', '*x').replace('_{', '').replace('}', '')\n",
    "filter_f"
   ]
  },
  {
   "cell_type": "code",
   "execution_count": 7,
   "metadata": {},
   "outputs": [],
   "source": [
    "f = x3*x8*x9*x11*x12*x14*x15*x23*x34*x38*x39*x41*x44*x45*x46*x47*x49*x55*x56*x59*x61 + x3*x9*x12*x14*x15*x23*x30*x34*x38*x39*x41*x45*x46*x47*x49*x55*x56*x59 + x3*x9*x12*x14*x15*x23*x34*x38*x39*x41*x45*x46*x47*x49*x55*x56*x59 + x3*x9*x12*x15*x19*x23*x34*x38*x39*x41*x45*x46*x47*x49*x55*x56*x59 + x3*x9*x12*x15*x23*x30*x34*x38*x39*x41*x45*x46*x47*x49*x55*x56*x59 + x3*x4*x9*x15*x23*x34*x38*x39*x41*x45*x46*x47*x49*x55*x56*x59 + x3*x9*x15*x19*x23*x34*x38*x39*x41*x45*x46*x47*x49*x55*x56*x59 + x3*x4*x9*x15*x23*x38*x39*x41*x45*x46*x47*x49*x55*x56*x59 + x3*x9*x15*x23*x38*x39*x41*x45*x46*x47*x49*x55*x56*x59*x62 + x3*x9*x15*x23*x38*x39*x41*x45*x46*x47*x49*x55*x56*x59 + x3*x9*x15*x23*x38*x39*x41*x45*x46*x47*x49*x55*x56*x62 + x3*x9*x15*x23*x31*x39*x41*x45*x46*x47*x49*x55*x56 + x3*x9*x15*x22*x23*x39*x41*x45*x46*x47*x49*x56 + x3*x9*x15*x23*x31*x39*x41*x45*x46*x47*x49*x56 + x0*x9*x15*x23*x39*x41*x45*x46*x47*x49*x56 + x9*x15*x22*x23*x39*x41*x45*x46*x47*x49*x56 + x0*x9*x15*x23*x39*x41*x45*x46*x47*x56 + x9*x15*x23*x38*x39*x41*x45*x46*x47*x56 + x9*x15*x23*x39*x41*x45*x46*x47*x56 + x9*x15*x38*x39*x41*x45*x46*x47*x56 + x9*x15*x39*x41*x45*x46*x47*x50*x56 + x9*x15*x39*x41*x45*x46*x47*x56 + x9*x15*x39*x42*x45*x46*x47*x56 + x9*x15*x39*x45*x46*x47*x50*x56 + x9*x15*x39*x45*x46*x47*x56 + x9*x39*x42*x45*x46*x47*x56 + x9*x39*x45*x46*x55*x56 + x9*x39*x45*x46*x56 + x36*x39*x45*x46*x56 + x39*x45*x46*x55*x56 + x36*x45*x46*x56 + x45*x46*x49*x56 + x45*x46*x56 + x45*x49*x56 + x45*x52*x56 + x25*x56 + x52*x56 + x25 + x56"
   ]
  },
  {
   "cell_type": "code",
   "execution_count": null,
   "metadata": {},
   "outputs": [],
   "source": []
  },
  {
   "cell_type": "code",
   "execution_count": 8,
   "metadata": {},
   "outputs": [
    {
     "name": "stdout",
     "output_type": "stream",
     "text": [
      "CPU times: user 6.98 s, sys: 350 ms, total: 7.33 s\n",
      "Wall time: 7.32 s\n",
      "Polynomial Sequence with 2655 Polynomials in 33 Variables\n",
      "True\n"
     ]
    }
   ],
   "source": [
    "I = Ideal(f)\n",
    "%time GB = I.groebner_basis(faugere=False, linear_algebra_in_last_block=False)\n",
    "print(GB)\n",
    "print(GB == GB.reduced())"
   ]
  },
  {
   "cell_type": "code",
   "execution_count": 9,
   "metadata": {},
   "outputs": [
    {
     "name": "stdout",
     "output_type": "stream",
     "text": [
      "CPU times: user 20.7 s, sys: 1.75 s, total: 22.4 s\n",
      "Wall time: 22.4 s\n",
      "Polynomial Sequence with 5727 Polynomials in 33 Variables\n",
      "True\n"
     ]
    }
   ],
   "source": [
    "I_1 = Ideal(f + 1)\n",
    "%time GB_1 = I_1.groebner_basis(faugere=False, linear_algebra_in_last_block=False)\n",
    "print(GB_1)\n",
    "print(GB_1 == GB_1.reduced())"
   ]
  },
  {
   "cell_type": "code",
   "execution_count": 10,
   "metadata": {},
   "outputs": [],
   "source": [
    "GB_U = GB + GB_1"
   ]
  },
  {
   "cell_type": "code",
   "execution_count": 11,
   "metadata": {},
   "outputs": [
    {
     "name": "stdout",
     "output_type": "stream",
     "text": [
      "2655\n",
      "5727\n"
     ]
    }
   ],
   "source": [
    "print(len(GB))\n",
    "print(len(GB_1))"
   ]
  },
  {
   "cell_type": "code",
   "execution_count": 12,
   "metadata": {},
   "outputs": [
    {
     "name": "stdout",
     "output_type": "stream",
     "text": [
      "2\n"
     ]
    }
   ],
   "source": [
    "AI = min([poly.deg() for poly in GB_U])\n",
    "print(AI)"
   ]
  },
  {
   "cell_type": "code",
   "execution_count": null,
   "metadata": {},
   "outputs": [],
   "source": []
  },
  {
   "cell_type": "code",
   "execution_count": 13,
   "metadata": {},
   "outputs": [
    {
     "data": {
      "text/plain": [
       "'x^64 + x^63 + x^62 + x^60 + x^59 + x^58 + x^57 + x^56 + x^53 + x^50 + x^47 + x^45 + x^44 + x^43+ x^42 + x^41 + x^40 + x^39 + x^38 + x^37 + x^36 + x^34 + x^32 + x^30 + x^28 + x^24 + x^18 + x^15 + x^14 + x^13 + x^11 + x^9 + x^6 + x^4 + 1'"
      ]
     },
     "execution_count": 13,
     "metadata": {},
     "output_type": "execute_result"
    }
   ],
   "source": [
    "p = 'x64 ⊕ x63 ⊕ x62 ⊕ x60 ⊕ x59 ⊕ x58 ⊕ x57 ⊕ x56 ⊕ x53 ⊕ x50 ⊕ x47 ⊕ x45 ⊕ x44 ⊕ x43⊕ x42 ⊕ x41 ⊕ x40 ⊕ x39 ⊕ x38 ⊕ x37 ⊕ x36 ⊕ x34 ⊕ x32 ⊕ x30 ⊕ x28 ⊕ x24 ⊕ x18 ⊕ x15 ⊕ x14 ⊕ x13 ⊕ x11 ⊕ x9 ⊕ x6 ⊕ x4 ⊕ 1'\n",
    "p = p.replace('x', 'x^').replace('⊕', '+')\n",
    "p"
   ]
  },
  {
   "cell_type": "code",
   "execution_count": null,
   "metadata": {},
   "outputs": [],
   "source": []
  },
  {
   "cell_type": "code",
   "execution_count": 14,
   "metadata": {},
   "outputs": [],
   "source": [
    "min_poly = []\n",
    "for poly in GB_U:\n",
    "    if poly.deg() == AI:\n",
    "        min_poly.append(poly)"
   ]
  },
  {
   "cell_type": "code",
   "execution_count": 15,
   "metadata": {},
   "outputs": [
    {
     "name": "stdout",
     "output_type": "stream",
     "text": [
      "x56*x25 + x25\n",
      "x56*x25 + x25 + x56 + 1\n"
     ]
    }
   ],
   "source": [
    "f1 = min_poly[0]\n",
    "f2 = min_poly[1]\n",
    "print(f1)\n",
    "print(f2)"
   ]
  },
  {
   "cell_type": "code",
   "execution_count": 16,
   "metadata": {},
   "outputs": [],
   "source": [
    "p = B['x'](p)"
   ]
  },
  {
   "cell_type": "code",
   "execution_count": 17,
   "metadata": {},
   "outputs": [],
   "source": [
    "C = companion_matrix(p, format = 'bottom')"
   ]
  },
  {
   "cell_type": "code",
   "execution_count": 18,
   "metadata": {},
   "outputs": [
    {
     "name": "stdout",
     "output_type": "stream",
     "text": [
      "CPU times: user 2.54 s, sys: 1.73 ms, total: 2.54 s\n",
      "Wall time: 2.54 s\n"
     ]
    }
   ],
   "source": [
    "%%time\n",
    "current_state = vector(B, (x0, x1, x2, x3, x4, x5, x6, x7, x8, x9, x10, x11, x12, x13, x14, x15, x16, x17, x18, x19, x20, x21,\n",
    "                           x22, x23, x24, x25, x26, x27, x28, x29, x30, x31, x32, x33, x34, x35, x36, x37, x38, x39, x40, x41,\n",
    "                           x42, x43, x44, x45, x46, x47, x48, x49, x50, x51, x52, x53, x54, x55, x56, x57, x58, x59, x60, x61,\n",
    "                           x62, x63))\n",
    "eq_1000 = []\n",
    "for i in range(1000):\n",
    "    current_state = C*current_state\n",
    "    eq = min_poly[int(gamma[i])](*current_state)\n",
    "    eq_1000.append(eq)"
   ]
  },
  {
   "cell_type": "code",
   "execution_count": 19,
   "metadata": {},
   "outputs": [
    {
     "name": "stdout",
     "output_type": "stream",
     "text": [
      "CPU times: user 1.28 s, sys: 16.1 ms, total: 1.3 s\n",
      "Wall time: 1.3 s\n"
     ]
    }
   ],
   "source": [
    "%%time\n",
    "current_state = vector(B, (x0, x1, x2, x3, x4, x5, x6, x7, x8, x9, x10, x11, x12, x13, x14, x15, x16, x17, x18, x19, x20, x21,\n",
    "                           x22, x23, x24, x25, x26, x27, x28, x29, x30, x31, x32, x33, x34, x35, x36, x37, x38, x39, x40, x41,\n",
    "                           x42, x43, x44, x45, x46, x47, x48, x49, x50, x51, x52, x53, x54, x55, x56, x57, x58, x59, x60, x61,\n",
    "                           x62, x63))\n",
    "eq_500 = []\n",
    "for i in range(500):\n",
    "    current_state = C*current_state\n",
    "    eq = min_poly[int(gamma[i])](*current_state)\n",
    "    eq_500.append(eq)"
   ]
  },
  {
   "cell_type": "code",
   "execution_count": 20,
   "metadata": {},
   "outputs": [
    {
     "name": "stdout",
     "output_type": "stream",
     "text": [
      "x57*x26 + x26 = 0\n",
      "x58*x27 + x27 + x58 + 1 = 1\n",
      "x59*x28 + x28 + x59 + 1 = 1\n",
      "x60*x29 + x29 = 0\n",
      "x61*x30 + x30 = 0\n",
      "x62*x31 + x31 = 0\n",
      "x63*x32 + x32 + x63 + 1 = 1\n",
      "x33*x0 + x33*x4 + x33*x6 + x33*x9 + x33*x11 + x33*x13 + x33*x14 + x33*x15 + x33*x18 + x33*x24 + x33*x28 + x33*x30 + x33*x32 + x34*x33 + x36*x33 + x37*x33 + x38*x33 + x39*x33 + x40*x33 + x41*x33 + x42*x33 + x43*x33 + x44*x33 + x45*x33 + x47*x33 + x50*x33 + x53*x33 + x56*x33 + x57*x33 + x58*x33 + x59*x33 + x60*x33 + x62*x33 + x63*x33 + x0 + x4 + x6 + x9 + x11 + x13 + x14 + x15 + x18 + x24 + x28 + x30 + x32 + x33 + x34 + x36 + x37 + x38 + x39 + x40 + x41 + x42 + x43 + x44 + x45 + x47 + x50 + x53 + x56 + x57 + x58 + x59 + x60 + x62 + x63 + 1 = 1\n",
      "x34*x0 + x34*x1 + x34*x4 + x34*x5 + x34*x6 + x34*x7 + x34*x9 + x34*x10 + x34*x11 + x34*x12 + x34*x13 + x34*x16 + x34*x18 + x34*x19 + x34*x24 + x34*x25 + x34*x28 + x34*x29 + x34*x30 + x34*x31 + x34*x32 + x34*x33 + x35*x34 + x36*x34 + x46*x34 + x47*x34 + x48*x34 + x50*x34 + x51*x34 + x53*x34 + x54*x34 + x56*x34 + x61*x34 + x62*x34 + x0 + x1 + x4 + x5 + x6 + x7 + x9 + x10 + x11 + x12 + x13 + x16 + x18 + x19 + x24 + x25 + x28 + x29 + x30 + x31 + x32 + x33 + x34 + x35 + x36 + x46 + x47 + x48 + x50 + x51 + x53 + x54 + x56 + x61 + x62 + 1 = 1\n",
      "x35*x1 + x35*x2 + x35*x5 + x35*x6 + x35*x7 + x35*x8 + x35*x10 + x35*x11 + x35*x12 + x35*x13 + x35*x14 + x35*x17 + x35*x19 + x35*x20 + x35*x25 + x35*x26 + x35*x29 + x35*x30 + x35*x31 + x35*x32 + x35*x33 + x35*x34 + x36*x35 + x37*x35 + x47*x35 + x48*x35 + x49*x35 + x51*x35 + x52*x35 + x54*x35 + x55*x35 + x57*x35 + x62*x35 + x63*x35 = 0\n"
     ]
    }
   ],
   "source": [
    "for i in range(10):\n",
    "    print(str((eq_500[i]))+\" = \" + str(gamma[i]))"
   ]
  },
  {
   "cell_type": "code",
   "execution_count": null,
   "metadata": {},
   "outputs": [],
   "source": []
  },
  {
   "cell_type": "code",
   "execution_count": 21,
   "metadata": {},
   "outputs": [
    {
     "name": "stdout",
     "output_type": "stream",
     "text": [
      "CPU times: user 50.2 s, sys: 1.89 s, total: 52.1 s\n",
      "Wall time: 52.1 s\n"
     ]
    }
   ],
   "source": [
    "%time GB_eq1000 = Ideal(eq_1000).groebner_basis()\n",
    "i_state_1000 = [int(pos.has_constant_part()) for pos in GB_eq1000]"
   ]
  },
  {
   "cell_type": "code",
   "execution_count": 22,
   "metadata": {},
   "outputs": [
    {
     "data": {
      "text/plain": [
       "[1,\n",
       " 1,\n",
       " 1,\n",
       " 0,\n",
       " 0,\n",
       " 0,\n",
       " 0,\n",
       " 1,\n",
       " 1,\n",
       " 1,\n",
       " 0,\n",
       " 1,\n",
       " 0,\n",
       " 0,\n",
       " 0,\n",
       " 0,\n",
       " 1,\n",
       " 1,\n",
       " 0,\n",
       " 0,\n",
       " 1,\n",
       " 0,\n",
       " 0,\n",
       " 0,\n",
       " 1,\n",
       " 0,\n",
       " 1,\n",
       " 1,\n",
       " 0,\n",
       " 0,\n",
       " 0,\n",
       " 1,\n",
       " 1,\n",
       " 1,\n",
       " 0,\n",
       " 0,\n",
       " 1,\n",
       " 0,\n",
       " 0,\n",
       " 1,\n",
       " 0,\n",
       " 0,\n",
       " 0,\n",
       " 1,\n",
       " 1,\n",
       " 1,\n",
       " 1,\n",
       " 1,\n",
       " 1,\n",
       " 1,\n",
       " 1,\n",
       " 1,\n",
       " 1,\n",
       " 1,\n",
       " 0,\n",
       " 0,\n",
       " 1,\n",
       " 1,\n",
       " 0,\n",
       " 1,\n",
       " 0,\n",
       " 0,\n",
       " 1,\n",
       " 1]"
      ]
     },
     "execution_count": 22,
     "metadata": {},
     "output_type": "execute_result"
    }
   ],
   "source": [
    "i_state_1000"
   ]
  },
  {
   "cell_type": "code",
   "execution_count": 23,
   "metadata": {},
   "outputs": [
    {
     "data": {
      "text/plain": [
       "True"
      ]
     },
     "execution_count": 23,
     "metadata": {},
     "output_type": "execute_result"
    }
   ],
   "source": [
    "curr_state = vector(B, i_state_1000)\n",
    "gamma_pred = ''\n",
    "while len(gamma_pred) < 1000:\n",
    "    curr_state = C*curr_state\n",
    "    gamma_pred += str(f(*curr_state))\n",
    "gamma_pred[:1000] == gamma[:1000]"
   ]
  },
  {
   "cell_type": "code",
   "execution_count": null,
   "metadata": {},
   "outputs": [],
   "source": []
  },
  {
   "cell_type": "code",
   "execution_count": 24,
   "metadata": {},
   "outputs": [
    {
     "name": "stdout",
     "output_type": "stream",
     "text": [
      "CPU times: user 47min 32s, sys: 4.04 s, total: 47min 36s\n",
      "Wall time: 47min 31s\n"
     ]
    }
   ],
   "source": [
    "%time GB_eq500 = Ideal(eq_500).groebner_basis()\n",
    "i_state_500 = [int(pos.has_constant_part()) for pos in GB_eq500]"
   ]
  },
  {
   "cell_type": "code",
   "execution_count": null,
   "metadata": {},
   "outputs": [],
   "source": [
    "#print(GB_eq500)"
   ]
  },
  {
   "cell_type": "code",
   "execution_count": 25,
   "metadata": {},
   "outputs": [
    {
     "data": {
      "text/plain": [
       "True"
      ]
     },
     "execution_count": 25,
     "metadata": {},
     "output_type": "execute_result"
    }
   ],
   "source": [
    "curr_state = vector(B, i_state_500)\n",
    "gamma_pred = ''\n",
    "while len(gamma_pred) < 1000:\n",
    "    curr_state = C*curr_state\n",
    "    gamma_pred += str(f(*curr_state))\n",
    "gamma_pred[:1000] == gamma[:1000]"
   ]
  },
  {
   "cell_type": "code",
   "execution_count": null,
   "metadata": {},
   "outputs": [],
   "source": []
  }
 ],
 "metadata": {
  "kernelspec": {
   "display_name": "SageMath 9.5",
   "language": "sage",
   "name": "sagemath"
  },
  "language_info": {
   "codemirror_mode": {
    "name": "ipython",
    "version": 3
   },
   "file_extension": ".py",
   "mimetype": "text/x-python",
   "name": "python",
   "nbconvert_exporter": "python",
   "pygments_lexer": "ipython3",
   "version": "3.10.6"
  }
 },
 "nbformat": 4,
 "nbformat_minor": 4
}
