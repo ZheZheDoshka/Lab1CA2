{
 "cells": [
  {
   "cell_type": "code",
   "execution_count": 1,
   "id": "2c223ad6",
   "metadata": {},
   "outputs": [],
   "source": [
    "import random\n",
    "import time\n",
    "import math"
   ]
  },
  {
   "cell_type": "markdown",
   "id": "f6748836",
   "metadata": {},
   "source": [
    "g = x3 ⊕ 1, P(f(x) = g(x))  =1/4\n",
    "\n",
    "g = x3 ⊕ x5 ⊕ 1, P(f(x) = g(x))  =1/4\n",
    "\n",
    "g = x2 ⊕ x4 , P(f(x) = g(x))  =5/8\n",
    "\n",
    "g = x2 ⊕ x4 ⊕ x5 ⊕ 1, P(f(x) = g(x))  =3/8\n",
    "\n",
    "g = x2 ⊕ x3 ⊕ x4 , P(f(x) = g(x))  =5/8\n",
    "\n",
    "g = x2 ⊕ x3 ⊕ x4 ⊕ x5 ⊕ 1, P(f(x) = g(x))  =3/8\n",
    "\n",
    "g = x0 ⊕ x1 , P(f(x) = g(x))  =5/8\n",
    "\n",
    "g = x0 ⊕ x1 ⊕ x5 ⊕ 1, P(f(x) = g(x))  =3/8\n",
    "\n",
    "g = x0 ⊕ x1 ⊕ x3 ⊕ 1, P(f(x) = g(x))  =3/8\n",
    "\n",
    "g = x0 ⊕ x1 ⊕ x3 ⊕ x5 , P(f(x) = g(x))  =5/8\n"
   ]
  },
  {
   "cell_type": "code",
   "execution_count": 4,
   "id": "03ad2c85",
   "metadata": {},
   "outputs": [
    {
     "name": "stdout",
     "output_type": "stream",
     "text": [
      "0\n",
      "0.0\n"
     ]
    }
   ],
   "source": [
    "f_text = open('V12.txt', 'r')\n",
    "f = f_text.readlines()[0]\n",
    "g_text = open('V12g.txt', 'r')\n",
    "gamma = g_text.readlines()[0]\n",
    "f_text.close()\n",
    "g_text.close()\n",
    "gamma = [int(g) for g in gamma]\n",
    "\n",
    "\n",
    "g2 = lambda x3, x5: x3 ^ x5 ^ 1\n",
    "g3 = lambda x2, x4: x2 ^ x4\n",
    "g1 = lambda x3: x3^1\n",
    "g5 = lambda x2, x3, x4 : x2 ^ x3 ^ x4\n",
    "g9 = lambda x0, x1, x3: x0 ^ x1 ^ x3 ^ 1\n",
    "\n",
    "g8 = lambda x0, x1, x5: x0 ^ x1 ^ x5 ^ 1\n",
    "\n",
    "g9 = lambda x0, x1, x3: x0 ^ x1 ^ x3 ^ 1\n",
    "g7 = lambda x0, x1: x0 ^ x1\n",
    "g10 = lambda x0, x1, x3, x5: x0 ^ x1 ^ x3 ^ x5\n",
    "\n",
    "int_poly = [576, 516, 864, 706, 610, 786]\n",
    "start = time.time()\n",
    "print(g7(0, 0))\n",
    "\n",
    "print(time.time() - start)"
   ]
  },
  {
   "cell_type": "code",
   "execution_count": 5,
   "id": "a3206c97",
   "metadata": {},
   "outputs": [
    {
     "name": "stdout",
     "output_type": "stream",
     "text": [
      "x_{0} x_{3} x_{5} + x_{1} x_{3} x_{5} + x_{2} x_{3} x_{5} + x_{2} x_{5} + x_{3} x_{4} x_{5} + x_{3} x_{5} + x_{3} + x_{4} x_{5} + x_{5} + 1\n"
     ]
    }
   ],
   "source": [
    "print(f)"
   ]
  },
  {
   "cell_type": "code",
   "execution_count": 6,
   "id": "bdfd63ad",
   "metadata": {},
   "outputs": [],
   "source": [
    "def distance(x, y):\n",
    "    return sum([abs((x[i]) - (y[i])) for i in range(len(x))])"
   ]
  },
  {
   "cell_type": "code",
   "execution_count": 7,
   "id": "848ed4af",
   "metadata": {},
   "outputs": [],
   "source": [
    "delta = 0.01\n",
    "e = 0.5\n",
    "m = 10\n",
    "k = 1\n",
    "T = int(8*(e**(-2))*math.log(2**(m*k)*delta**(-1)))\n",
    "k = 2\n",
    "T2 = int(8*(e**(-2))*math.log(2**(m*k)*delta**(-1)))\n",
    "T_range = range(T)\n",
    "T2_range = range(T2)"
   ]
  },
  {
   "cell_type": "code",
   "execution_count": 8,
   "id": "a092dd4a",
   "metadata": {},
   "outputs": [],
   "source": [
    "k = 3\n",
    "T3 = int(8*(e**(-2))*math.log(2**(m*k)*delta**(-1)))\n",
    "T3_range = range(T3)"
   ]
  },
  {
   "cell_type": "code",
   "execution_count": 9,
   "id": "16cfd675",
   "metadata": {},
   "outputs": [],
   "source": [
    "k = 4\n",
    "T4 = int(8*(e**(-2))*math.log(2**(m*k)*delta**(-1)))\n",
    "T4_range = range(T4)"
   ]
  },
  {
   "cell_type": "code",
   "execution_count": 10,
   "id": "701b23ad",
   "metadata": {
    "scrolled": true
   },
   "outputs": [
    {
     "name": "stdout",
     "output_type": "stream",
     "text": [
      "369\n",
      "590\n",
      "812\n",
      "1034\n"
     ]
    }
   ],
   "source": [
    "print(T)\n",
    "print(T2)\n",
    "print(T3)\n",
    "print(T4)"
   ]
  },
  {
   "cell_type": "code",
   "execution_count": 11,
   "id": "9b0d3313",
   "metadata": {},
   "outputs": [],
   "source": [
    "def f(x0, x1, x2, x3, x4, x5):\n",
    "    return (x0*x3*x5 ^ x1*x3*x5 ^ x2*x3*x5 ^ x2*x5 ^ x3*x4*x5 ^ x3*x5 ^ x3 ^ x4*x5 ^ x5 ^ 1)"
   ]
  },
  {
   "cell_type": "code",
   "execution_count": 12,
   "id": "ad81d033",
   "metadata": {},
   "outputs": [],
   "source": [
    "%load_ext Cython"
   ]
  },
  {
   "cell_type": "code",
   "execution_count": 14,
   "id": "33d34aa9",
   "metadata": {},
   "outputs": [],
   "source": [
    "%%cython\n",
    "from libc.stdlib cimport malloc, free\n",
    "\n",
    "cdef int LENGTH = 10\n",
    "\n",
    "def gen_sequence(int poly, int init_state, int nbits):\n",
    "    cdef int curr_state = init_state, s, i, j\n",
    "    cdef int *res_array = <int *>malloc(sizeof(int)*nbits)\n",
    "    try:\n",
    "        for i in range(nbits):\n",
    "            res_array[i] = (curr_state >> (LENGTH - 1))&1\n",
    "            s = 0\n",
    "            for j in range(LENGTH):\n",
    "                s = s^((( curr_state & poly ) >> j)&1)\n",
    "            curr_state = (curr_state << 1)|s\n",
    "        return [x for x in res_array[: nbits]]\n",
    "    finally:\n",
    "        free(res_array)\n",
    "        "
   ]
  },
  {
   "cell_type": "code",
   "execution_count": 16,
   "id": "7bfd642e",
   "metadata": {},
   "outputs": [
    {
     "name": "stdout",
     "output_type": "stream",
     "text": [
      "min distance =  214\n",
      "(127, 705)\n",
      "CPU times: total: 4min 56s\n",
      "Wall time: 4min 56s\n"
     ]
    }
   ],
   "source": [
    "%%time\n",
    "states = {}\n",
    "for i in range(2**10):\n",
    "    x2 = gen_sequence(int_poly[2], i, T2)\n",
    "    for j in range(2**10):\n",
    "        x4 = gen_sequence(int_poly[4], j, T2)\n",
    "        sequence = [g3(x2[k], x4[k]) for k in T2_range]\n",
    "        states[(i, j)] = distance(sequence, gamma[:T2])\n",
    "dist = min(states.values())\n",
    "print('min distance = ', dist)\n",
    "final_state = [(i, j) for (i, j) in states if states[(i,j)] == dist]\n",
    "for state in final_state:\n",
    "    print(state)"
   ]
  },
  {
   "cell_type": "code",
   "execution_count": 31,
   "id": "558e260f",
   "metadata": {},
   "outputs": [],
   "source": [
    "x2 = gen_sequence(int_poly[2],127, T4)\n",
    "x4 = gen_sequence(int_poly[4], 705, T4)"
   ]
  },
  {
   "cell_type": "code",
   "execution_count": 21,
   "id": "83ef4289",
   "metadata": {},
   "outputs": [
    {
     "name": "stdout",
     "output_type": "stream",
     "text": [
      "min distance =  223\n",
      "(339, 315)\n",
      "CPU times: total: 4min 51s\n",
      "Wall time: 4min 51s\n"
     ]
    }
   ],
   "source": [
    "%%time\n",
    "states = {}\n",
    "for i in range(2**10):\n",
    "    x0 = gen_sequence(int_poly[0], i, T2)\n",
    "    for j in range(2**10):\n",
    "        x1 = gen_sequence(int_poly[1], j, T2)\n",
    "        sequence = [g7(x0[k], x1[k]) for k in T2_range]\n",
    "        states[(i, j)] = distance(sequence, gamma[:T2])\n",
    "dist = min(states.values())\n",
    "print('min distance = ', dist)\n",
    "final_state = [(i, j) for (i, j) in states if states[(i,j)] == dist]\n",
    "for state in final_state:\n",
    "    print(state)"
   ]
  },
  {
   "cell_type": "code",
   "execution_count": 30,
   "id": "e20f060f",
   "metadata": {},
   "outputs": [],
   "source": [
    "x0 = gen_sequence(int_poly[0], 339, T4)\n",
    "x1 = gen_sequence(int_poly[1], 315, T4)"
   ]
  },
  {
   "cell_type": "code",
   "execution_count": 32,
   "id": "2972edd3",
   "metadata": {},
   "outputs": [
    {
     "name": "stdout",
     "output_type": "stream",
     "text": [
      "751 164\n",
      "CPU times: total: 9min 22s\n",
      "Wall time: 9min 31s\n"
     ]
    }
   ],
   "source": [
    "%%time\n",
    "#dist = 1\n",
    "states = {}\n",
    "for i in range(2**10):\n",
    "    x3 = gen_sequence(int_poly[3], i, T)\n",
    "    for j in range(2**10):\n",
    "        x5 = gen_sequence(int_poly[5], j, T)\n",
    "        seq = [f(x0[k], x1[k], x2[k], x3[k], x4[k], x5[k]) for k in T_range]\n",
    "        if seq == gamma[:T]:\n",
    "            print(i, j)\n",
    "        else:\n",
    "            dist = distance(seq, gamma[:T])\n",
    "            if dist < 50:\n",
    "                print(dist)\n",
    "            "
   ]
  },
  {
   "cell_type": "code",
   "execution_count": 36,
   "id": "6d767777",
   "metadata": {},
   "outputs": [],
   "source": [
    "x3 = gen_sequence(int_poly[3], 751, T4)"
   ]
  },
  {
   "cell_type": "code",
   "execution_count": 37,
   "id": "fa9112fc",
   "metadata": {},
   "outputs": [],
   "source": [
    "x5 = gen_sequence(int_poly[5], 164, T4)"
   ]
  },
  {
   "cell_type": "code",
   "execution_count": 38,
   "id": "41762352",
   "metadata": {},
   "outputs": [
    {
     "data": {
      "text/plain": [
       "True"
      ]
     },
     "execution_count": 38,
     "metadata": {},
     "output_type": "execute_result"
    }
   ],
   "source": [
    "seq = [f(x0[k], x1[k], x2[k], x3[k], x4[k], x5[k]) for k in range(T4)]\n",
    "seq[:1000]==gamma[:1000]"
   ]
  }
 ],
 "metadata": {
  "kernelspec": {
   "display_name": "Python 3 (ipykernel)",
   "language": "python",
   "name": "python3"
  },
  "language_info": {
   "codemirror_mode": {
    "name": "ipython",
    "version": 3
   },
   "file_extension": ".py",
   "mimetype": "text/x-python",
   "name": "python",
   "nbconvert_exporter": "python",
   "pygments_lexer": "ipython3",
   "version": "3.9.12"
  }
 },
 "nbformat": 4,
 "nbformat_minor": 5
}
